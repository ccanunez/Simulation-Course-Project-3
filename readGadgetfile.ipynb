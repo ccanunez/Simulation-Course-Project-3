{
 "cells": [
  {
   "cell_type": "code",
   "execution_count": 4,
   "id": "a5aa2b7e",
   "metadata": {},
   "outputs": [],
   "source": [
    "#!/usr/bin/env python\n",
    "\n",
    "import os.path\n",
    "import struct\n",
    "import numpy as np\n",
    "import sys\n",
    "import pandas as pd\n",
    "from numpy import array, savetxt\n",
    "from pygadgetreader import *"
   ]
  },
  {
   "cell_type": "code",
   "execution_count": null,
   "id": "adf8991b",
   "metadata": {},
   "outputs": [
    {
     "data": {
      "text/plain": [
       "{'npartThisFile': array([    0, 50000, 20000, 10000,     0,     0], dtype=uint32),\n",
       " 'npartTotal': array([    0, 50000, 20000, 10000,     0,     0], dtype=uint32),\n",
       " 'npartTotalHW': array([0, 0, 0, 0, 0, 0], dtype=uint32),\n",
       " 'ngas': 0,\n",
       " 'ndm': 50000,\n",
       " 'ndisk': 20000,\n",
       " 'nbulge': 10000,\n",
       " 'nstar': 0,\n",
       " 'nbndry': 0,\n",
       " 'massTable': array([0., 0., 0., 0., 0., 0.]),\n",
       " 'time': 0.0,\n",
       " 'nfiles': 1,\n",
       " 'redshift': 0.0,\n",
       " 'boxsize': 0.0,\n",
       " 'O0': 0.3,\n",
       " 'Ol': 0.7,\n",
       " 'h': 0.71,\n",
       " 'flag_cooling': 0,\n",
       " 'flag_sfr': 0,\n",
       " 'flag_fb': 0,\n",
       " 'flag_fh2': 0,\n",
       " 'flag_age': 0,\n",
       " 'flag_metals': 0,\n",
       " 'flag_potential': 0,\n",
       " 'flag_delaytime': 0,\n",
       " 'flag_tmax': 0,\n",
       " 'rhocrit': 9.469145724330793e-30}"
      ]
     },
     "execution_count": 5,
     "metadata": {},
     "output_type": "execute_result"
    }
   ],
   "source": [
    "readheader('dice_iso.g2','header')"
   ]
  },
  {
   "cell_type": "code",
   "execution_count": 6,
   "id": "0549544c",
   "metadata": {},
   "outputs": [
    {
     "name": "stdout",
     "output_type": "stream",
     "text": [
      "Returning DM    Positions\n"
     ]
    },
    {
     "data": {
      "text/plain": [
       "array([[-1.2162098e+00,  1.1877851e+00,  0.0000000e+00],\n",
       "       [-2.3827562e-01, -2.8835776e+00,  2.1994913e-01],\n",
       "       [-3.8473073e-01,  3.6624575e-01, -1.8182124e+00],\n",
       "       ...,\n",
       "       [-8.5530262e+00,  1.2144336e+01,  1.5763677e+01],\n",
       "       [-7.9905238e+00, -9.8295145e+00, -1.1059659e+01],\n",
       "       [-1.9777414e+01, -1.0132468e+01, -1.7412310e-02]], dtype=float32)"
      ]
     },
     "execution_count": 6,
     "metadata": {},
     "output_type": "execute_result"
    }
   ],
   "source": [
    "readsnap('dice_iso.g2','pos','dm')"
   ]
  },
  {
   "cell_type": "code",
   "execution_count": 8,
   "id": "4aa6e874",
   "metadata": {},
   "outputs": [
    {
     "name": "stdout",
     "output_type": "stream",
     "text": [
      "Returning DM    Positions\n",
      "Returning DM    Velocities\n",
      "Returning DM    Mass\n"
     ]
    }
   ],
   "source": [
    "pos=readsnap('dice_iso.g2','pos','dm')\n",
    "vel=readsnap('dice_iso.g2','vel','dm')\n",
    "mass=readsnap('dice_iso.g2','mass','dm')"
   ]
  },
  {
   "cell_type": "code",
   "execution_count": 9,
   "id": "23bebc07",
   "metadata": {},
   "outputs": [
    {
     "data": {
      "text/plain": [
       "(50000, 3)"
      ]
     },
     "execution_count": 9,
     "metadata": {},
     "output_type": "execute_result"
    }
   ],
   "source": [
    "np.shape(pos)"
   ]
  },
  {
   "cell_type": "code",
   "execution_count": null,
   "id": "8336d969",
   "metadata": {},
   "outputs": [
    {
     "data": {
      "text/plain": [
       "(50000, 3)"
      ]
     },
     "execution_count": 10,
     "metadata": {},
     "output_type": "execute_result"
    }
   ],
   "source": [
    "np.shape(vel)"
   ]
  },
  {
   "cell_type": "code",
   "execution_count": null,
   "id": "d308f3aa",
   "metadata": {},
   "outputs": [
    {
     "data": {
      "text/plain": [
       "(50000,)"
      ]
     },
     "execution_count": 11,
     "metadata": {},
     "output_type": "execute_result"
    }
   ],
   "source": [
    "np.shape(mass)"
   ]
  },
  {
   "cell_type": "code",
   "execution_count": null,
   "id": "403ca165",
   "metadata": {},
   "outputs": [],
   "source": [
    "Nrow = len(mass)"
   ]
  },
  {
   "cell_type": "code",
   "execution_count": 13,
   "id": "249bdeb2",
   "metadata": {},
   "outputs": [],
   "source": [
    "x = np.zeros(Nrow)\n",
    "y = np.zeros(Nrow)\n",
    "z = np.zeros(Nrow)\n",
    "vx = np.zeros(Nrow)\n",
    "vy = np.zeros(Nrow)\n",
    "vz = np.zeros(Nrow)\n",
    "\n",
    "x[:] = pos[:,0]\n",
    "y[:] = pos[:,1]\n",
    "z[:] = pos[:,2]\n",
    "vx[:] = vel[:,0]\n",
    "vy[:] = vel[:,1]\n",
    "vz[:] = vel[:,2]\n",
    "alldata = np.array([x, y, z, vx, vy, vz, mass])\n",
    "np.shape(alldata)\n",
    "newalldata=np.transpose(alldata)\n",
    "np.shape(newalldata)\n",
    "np.savetxt('partoutput.dat', newalldata, header=\"x y z vx vy vz m\", delimiter = ' ')"
   ]
  },
  {
   "cell_type": "markdown",
   "id": "8e9f40df",
   "metadata": {},
   "source": [
    "# Code"
   ]
  },
  {
   "cell_type": "code",
   "execution_count": 21,
   "id": "263451c9",
   "metadata": {},
   "outputs": [
    {
     "name": "stdout",
     "output_type": "stream",
     "text": [
      "Returning DM    Positions\n",
      "Returning DM    Positions\n",
      "Returning DM    Velocities\n",
      "Returning DM    Mass\n"
     ]
    }
   ],
   "source": [
    "'''halo'''\n",
    "\n",
    "readheader('dice_iso.g2','header')\n",
    "readsnap('dice_iso.g2','pos','dm')\n",
    "\n",
    "pos=readsnap('dice_iso.g2','pos','dm')\n",
    "vel=readsnap('dice_iso.g2','vel','dm')\n",
    "mass=readsnap('dice_iso.g2','mass','dm')\n",
    "\n",
    "np.shape(pos)\n",
    "np.shape(vel)\n",
    "np.shape(mass)\n",
    "Nrow = len(mass)\n",
    "\n",
    "x = np.zeros(Nrow)\n",
    "y = np.zeros(Nrow)\n",
    "z = np.zeros(Nrow)\n",
    "vx = np.zeros(Nrow)\n",
    "vy = np.zeros(Nrow)\n",
    "vz = np.zeros(Nrow)\n",
    "\n",
    "x[:] = pos[:,0]\n",
    "y[:] = pos[:,1]\n",
    "z[:] = pos[:,2]\n",
    "vx[:] = vel[:,0]\n",
    "vy[:] = vel[:,1]\n",
    "vz[:] = vel[:,2]\n",
    "alldata = np.array([x, y, z, vx, vy, vz, mass])\n",
    "np.shape(alldata)\n",
    "newalldata=np.transpose(alldata)\n",
    "np.shape(newalldata)\n",
    "np.savetxt('partoutput_DM.dat', newalldata, header=\"x y z vx vy vz m\", delimiter = ' ')"
   ]
  },
  {
   "cell_type": "code",
   "execution_count": 22,
   "id": "9a77ce2f",
   "metadata": {},
   "outputs": [
    {
     "name": "stdout",
     "output_type": "stream",
     "text": [
      "Returning DISK  Positions\n",
      "Returning DISK  Positions\n",
      "Returning DISK  Velocities\n",
      "Returning DISK  Mass\n"
     ]
    }
   ],
   "source": [
    "'''disk'''\n",
    "\n",
    "readheader('dice_iso.g2','header')\n",
    "readsnap('dice_iso.g2','pos','disk')\n",
    "\n",
    "pos=readsnap('dice_iso.g2','pos','disk')\n",
    "vel=readsnap('dice_iso.g2','vel','disk')\n",
    "mass=readsnap('dice_iso.g2','mass','disk')\n",
    "\n",
    "np.shape(pos)\n",
    "np.shape(vel)\n",
    "np.shape(mass)\n",
    "Nrow = len(mass)\n",
    "\n",
    "x = np.zeros(Nrow)\n",
    "y = np.zeros(Nrow)\n",
    "z = np.zeros(Nrow)\n",
    "vx = np.zeros(Nrow)\n",
    "vy = np.zeros(Nrow)\n",
    "vz = np.zeros(Nrow)\n",
    "\n",
    "x[:] = pos[:,0]\n",
    "y[:] = pos[:,1]\n",
    "z[:] = pos[:,2]\n",
    "vx[:] = vel[:,0]\n",
    "vy[:] = vel[:,1]\n",
    "vz[:] = vel[:,2]\n",
    "alldata = np.array([x, y, z, vx, vy, vz, mass])\n",
    "np.shape(alldata)\n",
    "newalldata=np.transpose(alldata)\n",
    "np.shape(newalldata)\n",
    "np.savetxt('partoutput_DISK.dat', newalldata, header=\"x y z vx vy vz m\", delimiter = ' ')"
   ]
  },
  {
   "cell_type": "code",
   "execution_count": 23,
   "id": "7341cf8d",
   "metadata": {},
   "outputs": [
    {
     "name": "stdout",
     "output_type": "stream",
     "text": [
      "Returning DM    Positions\n",
      "Returning BULGE Positions\n",
      "Returning BULGE Velocities\n",
      "Returning BULGE Mass\n"
     ]
    }
   ],
   "source": [
    "'''bulge'''\n",
    "\n",
    "readheader('dice_iso.g2','header')\n",
    "readsnap('dice_iso.g2','pos','bulge')\n",
    "\n",
    "pos=readsnap('dice_iso.g2','pos','bulge')\n",
    "vel=readsnap('dice_iso.g2','vel','bulge')\n",
    "mass=readsnap('dice_iso.g2','mass','bulge')\n",
    "\n",
    "np.shape(pos)\n",
    "np.shape(vel)\n",
    "np.shape(mass)\n",
    "Nrow = len(mass)\n",
    "\n",
    "x = np.zeros(Nrow)\n",
    "y = np.zeros(Nrow)\n",
    "z = np.zeros(Nrow)\n",
    "vx = np.zeros(Nrow)\n",
    "vy = np.zeros(Nrow)\n",
    "vz = np.zeros(Nrow)\n",
    "\n",
    "x[:] = pos[:,0]\n",
    "y[:] = pos[:,1]\n",
    "z[:] = pos[:,2]\n",
    "vx[:] = vel[:,0]\n",
    "vy[:] = vel[:,1]\n",
    "vz[:] = vel[:,2]\n",
    "alldata = np.array([x, y, z, vx, vy, vz, mass])\n",
    "np.shape(alldata)\n",
    "newalldata=np.transpose(alldata)\n",
    "np.shape(newalldata)\n",
    "np.savetxt('partoutput_BULGE.dat', newalldata, header=\"x y z vx vy vz m\", delimiter = ' ')"
   ]
  },
  {
   "cell_type": "code",
   "execution_count": null,
   "id": "0621089f",
   "metadata": {},
   "outputs": [],
   "source": []
  }
 ],
 "metadata": {
  "kernelspec": {
   "display_name": "Python 3",
   "language": "python",
   "name": "python3"
  },
  "language_info": {
   "codemirror_mode": {
    "name": "ipython",
    "version": 3
   },
   "file_extension": ".py",
   "mimetype": "text/x-python",
   "name": "python",
   "nbconvert_exporter": "python",
   "pygments_lexer": "ipython3",
   "version": "3.12.1"
  }
 },
 "nbformat": 4,
 "nbformat_minor": 5
}
